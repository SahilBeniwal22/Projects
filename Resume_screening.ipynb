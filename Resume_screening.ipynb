{
  "nbformat": 4,
  "nbformat_minor": 0,
  "metadata": {
    "colab": {
      "provenance": [],
      "authorship_tag": "ABX9TyOm2niS6t2vPw31NlwUUnIn",
      "include_colab_link": true
    },
    "kernelspec": {
      "name": "python3",
      "display_name": "Python 3"
    },
    "language_info": {
      "name": "python"
    }
  },
  "cells": [
    {
      "cell_type": "markdown",
      "metadata": {
        "id": "view-in-github",
        "colab_type": "text"
      },
      "source": [
        "<a href=\"https://colab.research.google.com/github/SahilBeniwal22/Projects/blob/main/Resume_screening.ipynb\" target=\"_parent\"><img src=\"https://colab.research.google.com/assets/colab-badge.svg\" alt=\"Open In Colab\"/></a>"
      ]
    },
    {
      "cell_type": "code",
      "source": [
        "! pip install pypdf2"
      ],
      "metadata": {
        "colab": {
          "base_uri": "https://localhost:8080/"
        },
        "id": "gQPyJ2-kDXkK",
        "outputId": "91a5cfa2-e5ff-4750-847e-9600136f4de6"
      },
      "execution_count": null,
      "outputs": [
        {
          "output_type": "stream",
          "name": "stdout",
          "text": [
            "Requirement already satisfied: pypdf2 in /usr/local/lib/python3.10/dist-packages (3.0.1)\n"
          ]
        }
      ]
    },
    {
      "cell_type": "code",
      "source": [
        "import re\n",
        "from PyPDF2 import PdfReader\n",
        "\n",
        "# Clean text\n",
        "def clean_text(text):\n",
        "    text = re .sub(r'\\s+', ' ', text)  # Remove extra spaces\n",
        "    text = re.sub(r'[^\\w\\s]', '', text)  # Remove special characters\n",
        "    return text.lower()\n",
        "\n",
        "# Extract text from PDF\n",
        "def extract_text_from_pdf(file_path):\n",
        "    reader = PdfReader(file_path)\n",
        "    text = \"\"\n",
        "    for page in reader.pages:\n",
        "        text += page.extract_text()\n",
        "    return clean_text(text)\n",
        "\n",
        "# Extract text from multiple resumes\n",
        "def extract_text_from_multiple_resumes(file_paths):\n",
        "    resume_texts = {}\n",
        "    for file_path in file_paths:\n",
        "        try:\n",
        "            text = extract_text_from_pdf(file_path)\n",
        "            resume_texts[file_path] = text\n",
        "        except Exception as e:\n",
        "            print(f\"Error reading {file_path}: {e}\")\n",
        "    return resume_texts\n",
        "\n",
        "# List of resume file paths\n",
        "resume_files = [\n",
        "    \"/content/Resume.pdf\",\n",
        "    \"/content/Aarti_Yadav_resume.pdf\",\n",
        "    \"/content/Aarti's Resume-hackerresume (1).pdf\"\n",
        "]\n",
        "\n",
        "# Extract text for all resumes\n",
        "resumes_texts = extract_text_from_multiple_resumes(resume_files)\n",
        "\n",
        "# Display the first 500 characters of each resume's text\n",
        "for file_path, text in resumes_texts.items():\n",
        "    print(f\"\\nFile: {file_path}\")\n",
        "    print(f\"Extracted Text (First 500 Characters): {text[:500]}\")"
      ],
      "metadata": {
        "id": "w6zsYn0_Ct10",
        "colab": {
          "base_uri": "https://localhost:8080/",
          "height": 383
        },
        "outputId": "b76c75ea-9d78-44b8-c746-216a95bc4802"
      },
      "execution_count": null,
      "outputs": [
        {
          "output_type": "error",
          "ename": "ModuleNotFoundError",
          "evalue": "No module named 'PyPDF2'",
          "traceback": [
            "\u001b[0;31m---------------------------------------------------------------------------\u001b[0m",
            "\u001b[0;31mModuleNotFoundError\u001b[0m                       Traceback (most recent call last)",
            "\u001b[0;32m<ipython-input-1-4868c6e00619>\u001b[0m in \u001b[0;36m<cell line: 2>\u001b[0;34m()\u001b[0m\n\u001b[1;32m      1\u001b[0m \u001b[0;32mimport\u001b[0m \u001b[0mre\u001b[0m\u001b[0;34m\u001b[0m\u001b[0;34m\u001b[0m\u001b[0m\n\u001b[0;32m----> 2\u001b[0;31m \u001b[0;32mfrom\u001b[0m \u001b[0mPyPDF2\u001b[0m \u001b[0;32mimport\u001b[0m \u001b[0mPdfReader\u001b[0m\u001b[0;34m\u001b[0m\u001b[0;34m\u001b[0m\u001b[0m\n\u001b[0m\u001b[1;32m      3\u001b[0m \u001b[0;34m\u001b[0m\u001b[0m\n\u001b[1;32m      4\u001b[0m \u001b[0;31m# Clean text\u001b[0m\u001b[0;34m\u001b[0m\u001b[0;34m\u001b[0m\u001b[0m\n\u001b[1;32m      5\u001b[0m \u001b[0;32mdef\u001b[0m \u001b[0mclean_text\u001b[0m\u001b[0;34m(\u001b[0m\u001b[0mtext\u001b[0m\u001b[0;34m)\u001b[0m\u001b[0;34m:\u001b[0m\u001b[0;34m\u001b[0m\u001b[0;34m\u001b[0m\u001b[0m\n",
            "\u001b[0;31mModuleNotFoundError\u001b[0m: No module named 'PyPDF2'",
            "",
            "\u001b[0;31m---------------------------------------------------------------------------\u001b[0;32m\nNOTE: If your import is failing due to a missing package, you can\nmanually install dependencies using either !pip or !apt.\n\nTo view examples of installing some common dependencies, click the\n\"Open Examples\" button below.\n\u001b[0;31m---------------------------------------------------------------------------\u001b[0m\n"
          ],
          "errorDetails": {
            "actions": [
              {
                "action": "open_url",
                "actionText": "Open Examples",
                "url": "/notebooks/snippets/importing_libraries.ipynb"
              }
            ]
          }
        }
      ]
    },
    {
      "cell_type": "code",
      "source": [
        "# Predefined list of skills\n",
        "skills_list = [\"python\", \"java\", \"sql\",\"react\",\"javascript\",\"mongodb\"]\n",
        "\n",
        "# Extract skills from text\n",
        "def extract_skills(text, skills_list):\n",
        "    skills_found = [skill for skill in skills_list if skill in text]\n",
        "    return skills_found\n",
        "\n",
        "# Extract skills from multiple resumes\n",
        "def extract_skills_from_multiple_resumes(resumes_texts, skills_list):\n",
        "    skills_summary = {}\n",
        "    for file_path, text in resumes_texts.items():\n",
        "        skills_found = extract_skills(text, skills_list)\n",
        "        skills_summary[file_path] = skills_found\n",
        "    return skills_summary\n",
        "\n",
        "# Example usage with multiple resumes\n",
        "resume_files = [\n",
        "    \"/content/Resume.pdf\",\n",
        "    \"/content/Aarti_Yadav_resume.pdf\",\n",
        "    \"/content/Aarti's Resume-hackerresume (1).pdf\"\n",
        "]\n",
        "\n",
        "# Extract text for all resumes\n",
        "resumes_texts = extract_text_from_multiple_resumes(resume_files)\n",
        "\n",
        "# Extract skills for all resumes\n",
        "skills_summary = extract_skills_from_multiple_resumes(resumes_texts, skills_list)\n",
        "\n",
        "# Display extracted skills for each resume\n",
        "for file_path, skills in skills_summary.items():\n",
        "    print(f\"\\nFile: {file_path}\")\n",
        "    print(f\"Extracted Skills: {skills}\")\n"
      ],
      "metadata": {
        "colab": {
          "base_uri": "https://localhost:8080/"
        },
        "id": "UhD7dcJDC_yf",
        "outputId": "499182cd-cb48-4cfa-eedc-f671245a6515"
      },
      "execution_count": null,
      "outputs": [
        {
          "output_type": "stream",
          "name": "stdout",
          "text": [
            "\n",
            "File: /content/Resume.pdf\n",
            "Extracted Skills: ['python', 'java', 'sql']\n",
            "\n",
            "File: /content/Aarti_Yadav_resume.pdf\n",
            "Extracted Skills: ['python', 'java', 'sql', 'javascript']\n",
            "\n",
            "File: /content/Aarti's Resume-hackerresume (1).pdf\n",
            "Extracted Skills: ['python', 'sql']\n"
          ]
        }
      ]
    },
    {
      "cell_type": "code",
      "source": [
        "from sklearn.feature_extraction.text import TfidfVectorizer\n",
        "from sklearn.metrics.pairwise import cosine_similarity\n",
        "\n",
        "# Match resumes to a job description\n",
        "def match_resumes_to_job(resumes, job_description):\n",
        "    # Combine job description and resumes into one list\n",
        "    documents = [job_description] + resumes\n",
        "    vectorizer = TfidfVectorizer()\n",
        "    tfidf_matrix = vectorizer.fit_transform(documents)\n",
        "\n",
        "    # Compute cosine similarity\n",
        "    job_vector = tfidf_matrix[0]\n",
        "    resume_vectors = tfidf_matrix[1:]\n",
        "    similarities = cosine_similarity(job_vector, resume_vectors).flatten()\n",
        "\n",
        "    # Rank resumes by similarity\n",
        "    ranked_indices = similarities.argsort()[::-1]\n",
        "    return ranked_indices, similarities\n",
        "\n",
        "# Example usage\n",
        "job_description = \"Looking for a Python developer with experience in NLP and machine learning.\"\n",
        "\n",
        "# List of resumes\n",
        "resumes = [\n",
        "    extract_text_from_pdf(\"/content/Resume.pdf\"),\n",
        "    extract_text_from_pdf(\"/content/Aarti_Yadav_resume.pdf\"),\n",
        "    extract_text_from_pdf(\"/content/Aarti's Resume-hackerresume (1).pdf\")\n",
        "]\n",
        "\n",
        "# Match resumes to the job description\n",
        "ranked_indices, similarities = match_resumes_to_job(resumes, job_description)\n",
        "\n",
        "# Display similarity rankings\n",
        "print(\"Ranking of Resumes Based on Job Description:\")\n",
        "for rank, idx in enumerate(ranked_indices):\n",
        "    print(f\"Rank {rank + 1}: Resume {idx + 1} - Similarity: {similarities[idx]:.2f}\")\n"
      ],
      "metadata": {
        "colab": {
          "base_uri": "https://localhost:8080/"
        },
        "id": "4HUmZDI8DWPu",
        "outputId": "21fbc117-fcb5-413e-fc67-ed7100d427db"
      },
      "execution_count": null,
      "outputs": [
        {
          "output_type": "stream",
          "name": "stdout",
          "text": [
            "Ranking of Resumes Based on Job Description:\n",
            "Rank 1: Resume 1 - Similarity: 0.19\n",
            "Rank 2: Resume 2 - Similarity: 0.12\n",
            "Rank 3: Resume 3 - Similarity: 0.10\n"
          ]
        }
      ]
    },
    {
      "cell_type": "code",
      "source": [
        "def resume_screening_pipeline(resume_files, job_description, skills_list):\n",
        "    resumes_texts = []\n",
        "\n",
        "    # Step 1: Extract and clean text from all resumes\n",
        "    for file in resume_files:\n",
        "        text = extract_text_from_pdf(file)\n",
        "        resumes_texts.append(text)\n",
        "\n",
        "    # Step 2: Extract skills from resumes\n",
        "    skills_summary = [extract_skills(resume, skills_list) for resume in resumes_texts]\n",
        "\n",
        "    # Step 3: Match resumes to the job description\n",
        "    ranked_indices, similarities = match_resumes_to_job(resumes_texts, job_description)\n",
        "\n",
        "    # Step 4: Compile results\n",
        "    results = []\n",
        "    for rank, idx in enumerate(ranked_indices):\n",
        "        results.append({\n",
        "            \"Rank\": rank + 1,\n",
        "            \"Resume\": resume_files[idx],\n",
        "            \"Similarity\": round(similarities[idx], 2),\n",
        "            \"Skills\": skills_summary[idx]\n",
        "        })\n",
        "\n",
        "    return results\n",
        "\n",
        "\n",
        "# Example usage\n",
        "resume_files = [\n",
        "    \"/content/Resume.pdf\",\n",
        "    \"/content/Aarti's Resume-hackerresume (1).pdf\",\n",
        "    \"/content/Aarti_Yadav_resume.pdf\",\n",
        "    # \"/content/Ankur_Resume.pdf\"  # Add more files as needed\n",
        "]\n",
        "\n",
        "# Define the job description and skills list\n",
        "job_description = \"Looking for a Python developer with experience in NLP and machine learning.\"\n",
        "skills_list = [\"python\", \"java\", \"sql\", \"html\", \"css\", \"nlp\", \"machine learning\", \"aws\"]\n",
        "\n",
        "# Run the screening pipeline\n",
        "results = resume_screening_pipeline(resume_files, job_description, skills_list)\n",
        "\n",
        "# Display results\n",
        "for result in results:\n",
        "    print(f\"Rank: {result['Rank']}\")\n",
        "    print(f\"Resume: {result['Resume']}\")\n",
        "    print(f\"Similarity: {result['Similarity']}\")\n",
        "    print(f\"Extracted Skills: {result['Skills']}\")\n",
        "    print(\"-\" * 40)\n"
      ],
      "metadata": {
        "colab": {
          "base_uri": "https://localhost:8080/"
        },
        "id": "3J1mGw8UnhqK",
        "outputId": "3dc9f31d-df7a-4ad0-a220-213e024a5b10"
      },
      "execution_count": null,
      "outputs": [
        {
          "output_type": "stream",
          "name": "stdout",
          "text": [
            "Rank: 1\n",
            "Resume: /content/Resume.pdf\n",
            "Similarity: 0.19\n",
            "Extracted Skills: ['python', 'java', 'sql', 'html']\n",
            "----------------------------------------\n",
            "Rank: 2\n",
            "Resume: /content/Aarti_Yadav_resume.pdf\n",
            "Similarity: 0.12\n",
            "Extracted Skills: ['python', 'java', 'sql', 'html']\n",
            "----------------------------------------\n",
            "Rank: 3\n",
            "Resume: /content/Aarti's Resume-hackerresume (1).pdf\n",
            "Similarity: 0.1\n",
            "Extracted Skills: ['python', 'sql', 'html']\n",
            "----------------------------------------\n"
          ]
        }
      ]
    },
    {
      "cell_type": "code",
      "source": [],
      "metadata": {
        "id": "6Riv3oEvn2Hr"
      },
      "execution_count": null,
      "outputs": []
    }
  ]
}